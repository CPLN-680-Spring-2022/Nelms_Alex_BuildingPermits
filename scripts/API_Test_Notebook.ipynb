{
 "cells": [
  {
   "cell_type": "code",
   "execution_count": 2,
   "metadata": {},
   "outputs": [],
   "source": [
    "import os\n",
    "os.chdir(r'C:\\Users\\nelms\\Documents\\Penn\\CPLN-680\\Permit_Metrics')"
   ]
  },
  {
   "cell_type": "code",
   "execution_count": 87,
   "metadata": {},
   "outputs": [
    {
     "name": "stdout",
     "output_type": "stream",
     "text": [
      "The autoreload extension is already loaded. To reload it, use:\n",
      "  %reload_ext autoreload\n"
     ]
    },
    {
     "data": {
      "text/plain": [
       "{'client_id': '637815940963197118',\n",
       " 'client_secret': '8aa4ae6bd0d04f3a8ec53ad074739edf',\n",
       " 'username': 'nelmsal@gmail.com',\n",
       " 'password': 'ACMPP_dno-219a'}"
      ]
     },
     "execution_count": 87,
     "metadata": {},
     "output_type": "execute_result"
    }
   ],
   "source": [
    "%load_ext autoreload\n",
    "%autoreload 2\n",
    "\n",
    "from accela.GetAppInfo import GetAppUserInfo\n",
    "app_info_path = r'C:\\Users\\nelms\\Documents\\Code\\keys\\permit_metric_app.json'\n",
    "user_info_path = r'C:\\Users\\nelms\\Documents\\Code\\keys\\accela_user_info.json'\n",
    "app_info = GetAppUserInfo(app_info_path, user_info_path)\n",
    "app_info"
   ]
  },
  {
   "cell_type": "code",
   "execution_count": 84,
   "metadata": {},
   "outputs": [],
   "source": [
    "import urllib\n",
    "\n",
    "MAIN_URL = 'https://apis.accela.com'\n",
    "AUTH_URL = 'https://auth.accela.com'\n",
    "REQUEST_URL = AUTH_URL + '/oauth2/token'\n",
    "\n",
    "contentType = 'application/x-www-form-urlencoded'\n",
    "\n",
    "values = {\n",
    "    #'agency_name':'',\n",
    "    #'environment':'',\n",
    "    'grant_type':'password',\n",
    "    'scope':'records parcels inspections',\n",
    "    'environment':'PROD',\n",
    "    'agency':'ccsf'\n",
    "}\n",
    "values.update(app_info)\n",
    "headers = { 'Content-Type' : contentType }\n",
    "\n",
    "url = REQUEST_URL\n",
    "data = urllib.parse.urlencode(values).encode(\"utf-8\")\n",
    "#data = values\n",
    "req = urllib.request.Request(url, data, headers)\n",
    "with urllib.request.urlopen(req) as response:\n",
    "    #htmlSource = response.read()\n",
    "    the_page = response.read()\n",
    "    d = json.loads(the_page)"
   ]
  },
  {
   "cell_type": "code",
   "execution_count": 89,
   "metadata": {},
   "outputs": [
    {
     "name": "stdout",
     "output_type": "stream",
     "text": [
      "The autoreload extension is already loaded. To reload it, use:\n",
      "  %reload_ext autoreload\n"
     ]
    }
   ],
   "source": [
    "%load_ext autoreload\n",
    "%autoreload 2\n",
    "\n",
    "from accela.GetToken import SetToken, GetToken\n",
    "SetToken(agency='ccsf',environment='PROD')"
   ]
  },
  {
   "cell_type": "code",
   "execution_count": 94,
   "metadata": {},
   "outputs": [],
   "source": [
    "AccessToken = GetToken()"
   ]
  },
  {
   "cell_type": "code",
   "execution_count": 95,
   "metadata": {},
   "outputs": [
    {
     "data": {
      "text/plain": [
       "'g2EN7m8ROiPuoHgDjQRkrqCmPdZuweJ-EFa3k8zaZLdeP5i6v4PsBep9et4Ndu65Oohltc9BWRpDkjRrh0HLz7onzwc_xuI9K4mizo8rOUQeZmKWbHjrq3MT6fWvhJVD0wudEkpY6FZWwayMO4pV2jKWAEmmo5B3hbGd_7ena5SmZ1-SaGrRn0QCShk805njArbC2MYjUiCMcLgHkBMq1uof7-aVKp7Wm7OPOcjLGMyLr3RT9sIel6gEDyxDwxtAsauwAmAq0a9xjm5cBKffJtnhsBDPqukkRc5swsGfPmGsjAJYKZ5wWG1rVQ5Szve4ebps0GkS8Ai5cKF9BAtQoQbHtER0eSEn_mOleB2wnB-u8grL-eE2rhmE_QUFBBv0_-bVXTP7j36Afd7ltKTDB1L-t7VWfMf7C5RkIf5Djf41'"
      ]
     },
     "execution_count": 95,
     "metadata": {},
     "output_type": "execute_result"
    }
   ],
   "source": [
    "AccessToken"
   ]
  },
  {
   "cell_type": "code",
   "execution_count": 25,
   "metadata": {},
   "outputs": [],
   "source": [
    "import requests\n",
    "import json\n",
    "\n",
    "url = 'https://apis.accela.com/v4/agencies'\n",
    "\n",
    "contentType = 'application/json'\n",
    "headers = { \n",
    "    #'Authorization' : token,\n",
    "    'x-accela-appid': app_id,\n",
    "    'Content-Type' : contentType \n",
    "    }\n",
    "\n",
    "def get_AccelaJson(accelaurl):\n",
    "    response = requests.request('GET', accelaurl, headers=headers)\n",
    "    d = response.json()\n",
    "    \n",
    "    return d\n",
    "\n",
    "agencies = get_AccelaJson(url)"
   ]
  },
  {
   "cell_type": "code",
   "execution_count": 35,
   "metadata": {},
   "outputs": [],
   "source": [
    "import pandas as pd\n",
    "a_df = pd.DataFrame(agencies['result'])\n",
    "a_df = a_df[(a_df['isForDemo']==False)&(~a_df['state'].isna())&(a_df['state']!='')]\n",
    "\n",
    "a_df.to_csv(r'./static_data/agencies.csv')"
   ]
  },
  {
   "cell_type": "code",
   "execution_count": 42,
   "metadata": {},
   "outputs": [
    {
     "data": {
      "text/plain": [
       "'637815080349888749'"
      ]
     },
     "execution_count": 42,
     "metadata": {},
     "output_type": "execute_result"
    }
   ],
   "source": [
    "app_info_path = r'C:\\Users\\nelms\\Documents\\Code\\keys\\permit_metric_app.json'"
   ]
  },
  {
   "cell_type": "code",
   "execution_count": 12,
   "metadata": {},
   "outputs": [
    {
     "ename": "AttributeError",
     "evalue": "'str' object has no attribute 'read'",
     "output_type": "error",
     "traceback": [
      "\u001b[1;31m---------------------------------------------------------------------------\u001b[0m",
      "\u001b[1;31mAttributeError\u001b[0m                            Traceback (most recent call last)",
      "\u001b[1;32mc:\\Users\\nelms\\OneDrive - walnut-creek.org\\Projects\\Server_Updates\\Scripts\\API_Test_Notebook.ipynb Cell 3'\u001b[0m in \u001b[0;36m<module>\u001b[1;34m\u001b[0m\n\u001b[1;32m----> <a href='vscode-notebook-cell:/c%3A/Users/nelms/OneDrive%20-%20walnut-creek.org/Projects/Server_Updates/Scripts/API_Test_Notebook.ipynb#ch0000002?line=0'>1</a>\u001b[0m get_app_info(app_info_path)\n",
      "File \u001b[1;32mc:\\Users\\nelms\\OneDrive - walnut-creek.org\\Projects\\Server_Updates\\Scripts\\Accela\\GetLoginInfo.py:4\u001b[0m, in \u001b[0;36mget_app_info\u001b[1;34m(app_info_path)\u001b[0m\n\u001b[0;32m      <a href='file:///c%3A/Users/nelms/OneDrive%20-%20walnut-creek.org/Projects/Server_Updates/Scripts/Accela/GetLoginInfo.py?line=2'>3</a>\u001b[0m \u001b[39mdef\u001b[39;00m \u001b[39mget_app_info\u001b[39m(app_info_path):\n\u001b[1;32m----> <a href='file:///c%3A/Users/nelms/OneDrive%20-%20walnut-creek.org/Projects/Server_Updates/Scripts/Accela/GetLoginInfo.py?line=3'>4</a>\u001b[0m     app_info \u001b[39m=\u001b[39m json\u001b[39m.\u001b[39;49mload(app_info_path)\n\u001b[0;32m      <a href='file:///c%3A/Users/nelms/OneDrive%20-%20walnut-creek.org/Projects/Server_Updates/Scripts/Accela/GetLoginInfo.py?line=4'>5</a>\u001b[0m     \u001b[39mreturn\u001b[39;00m app_info\n",
      "File \u001b[1;32mC:\\ProgramData\\Miniconda3\\envs\\permit_metrics\\lib\\json\\__init__.py:293\u001b[0m, in \u001b[0;36mload\u001b[1;34m(fp, cls, object_hook, parse_float, parse_int, parse_constant, object_pairs_hook, **kw)\u001b[0m\n\u001b[0;32m    <a href='file:///c%3A/ProgramData/Miniconda3/envs/permit_metrics/lib/json/__init__.py?line=273'>274</a>\u001b[0m \u001b[39mdef\u001b[39;00m \u001b[39mload\u001b[39m(fp, \u001b[39m*\u001b[39m, \u001b[39mcls\u001b[39m\u001b[39m=\u001b[39m\u001b[39mNone\u001b[39;00m, object_hook\u001b[39m=\u001b[39m\u001b[39mNone\u001b[39;00m, parse_float\u001b[39m=\u001b[39m\u001b[39mNone\u001b[39;00m,\n\u001b[0;32m    <a href='file:///c%3A/ProgramData/Miniconda3/envs/permit_metrics/lib/json/__init__.py?line=274'>275</a>\u001b[0m         parse_int\u001b[39m=\u001b[39m\u001b[39mNone\u001b[39;00m, parse_constant\u001b[39m=\u001b[39m\u001b[39mNone\u001b[39;00m, object_pairs_hook\u001b[39m=\u001b[39m\u001b[39mNone\u001b[39;00m, \u001b[39m*\u001b[39m\u001b[39m*\u001b[39mkw):\n\u001b[0;32m    <a href='file:///c%3A/ProgramData/Miniconda3/envs/permit_metrics/lib/json/__init__.py?line=275'>276</a>\u001b[0m     \u001b[39m\"\"\"Deserialize ``fp`` (a ``.read()``-supporting file-like object containing\u001b[39;00m\n\u001b[0;32m    <a href='file:///c%3A/ProgramData/Miniconda3/envs/permit_metrics/lib/json/__init__.py?line=276'>277</a>\u001b[0m \u001b[39m    a JSON document) to a Python object.\u001b[39;00m\n\u001b[0;32m    <a href='file:///c%3A/ProgramData/Miniconda3/envs/permit_metrics/lib/json/__init__.py?line=277'>278</a>\u001b[0m \n\u001b[1;32m   (...)\u001b[0m\n\u001b[0;32m    <a href='file:///c%3A/ProgramData/Miniconda3/envs/permit_metrics/lib/json/__init__.py?line=290'>291</a>\u001b[0m \u001b[39m    kwarg; otherwise ``JSONDecoder`` is used.\u001b[39;00m\n\u001b[0;32m    <a href='file:///c%3A/ProgramData/Miniconda3/envs/permit_metrics/lib/json/__init__.py?line=291'>292</a>\u001b[0m \u001b[39m    \"\"\"\u001b[39;00m\n\u001b[1;32m--> <a href='file:///c%3A/ProgramData/Miniconda3/envs/permit_metrics/lib/json/__init__.py?line=292'>293</a>\u001b[0m     \u001b[39mreturn\u001b[39;00m loads(fp\u001b[39m.\u001b[39;49mread(),\n\u001b[0;32m    <a href='file:///c%3A/ProgramData/Miniconda3/envs/permit_metrics/lib/json/__init__.py?line=293'>294</a>\u001b[0m         \u001b[39mcls\u001b[39m\u001b[39m=\u001b[39m\u001b[39mcls\u001b[39m, object_hook\u001b[39m=\u001b[39mobject_hook,\n\u001b[0;32m    <a href='file:///c%3A/ProgramData/Miniconda3/envs/permit_metrics/lib/json/__init__.py?line=294'>295</a>\u001b[0m         parse_float\u001b[39m=\u001b[39mparse_float, parse_int\u001b[39m=\u001b[39mparse_int,\n\u001b[0;32m    <a href='file:///c%3A/ProgramData/Miniconda3/envs/permit_metrics/lib/json/__init__.py?line=295'>296</a>\u001b[0m         parse_constant\u001b[39m=\u001b[39mparse_constant, object_pairs_hook\u001b[39m=\u001b[39mobject_pairs_hook, \u001b[39m*\u001b[39m\u001b[39m*\u001b[39mkw)\n",
      "\u001b[1;31mAttributeError\u001b[0m: 'str' object has no attribute 'read'"
     ]
    }
   ],
   "source": []
  }
 ],
 "metadata": {
  "interpreter": {
   "hash": "e6ff257b97df595aa9d563a902d1b75fbe422a761a4d2a2c55184334088f2f38"
  },
  "kernelspec": {
   "display_name": "Python 3.9.9 ('permit_metrics')",
   "language": "python",
   "name": "python3"
  },
  "language_info": {
   "codemirror_mode": {
    "name": "ipython",
    "version": 3
   },
   "file_extension": ".py",
   "mimetype": "text/x-python",
   "name": "python",
   "nbconvert_exporter": "python",
   "pygments_lexer": "ipython3",
   "version": "3.9.9"
  },
  "orig_nbformat": 4
 },
 "nbformat": 4,
 "nbformat_minor": 2
}
