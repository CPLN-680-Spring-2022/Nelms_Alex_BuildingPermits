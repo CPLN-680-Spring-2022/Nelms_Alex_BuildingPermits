{
 "cells": [
  {
   "cell_type": "code",
   "execution_count": 35,
   "metadata": {},
   "outputs": [],
   "source": [
    "import os\n",
    "os.chdir(r'C:\\Users\\nelms\\OneDrive - walnut-creek.org\\Projects\\Server_Updates')"
   ]
  },
  {
   "cell_type": "code",
   "execution_count": 44,
   "metadata": {},
   "outputs": [
    {
     "name": "stdout",
     "output_type": "stream",
     "text": [
      "The autoreload extension is already loaded. To reload it, use:\n",
      "  %reload_ext autoreload\n"
     ]
    }
   ],
   "source": [
    "%load_ext autoreload\n",
    "%autoreload 2\n",
    "\n",
    "from accela.GetLoginInfo import get_app_info\n",
    "app_info_path = r'C:\\Users\\nelms\\Documents\\Code\\keys\\permit_metric_app.json'\n",
    "app_id, app_secret = get_app_info(app_info_path)\n",
    "\n",
    "from accela.GetUserInfo import get_user_info\n",
    "user_info_path = r'C:\\Users\\nelms\\Documents\\Code\\keys\\accela_user_info.json'\n",
    "username, password = get_user_info(user_info_path)"
   ]
  },
  {
   "cell_type": "code",
   "execution_count": null,
   "metadata": {},
   "outputs": [],
   "source": []
  },
  {
   "cell_type": "code",
   "execution_count": 46,
   "metadata": {},
   "outputs": [
    {
     "data": {
      "text/plain": [
       "'ACMPP_dno-219a'"
      ]
     },
     "execution_count": 46,
     "metadata": {},
     "output_type": "execute_result"
    }
   ],
   "source": []
  },
  {
   "cell_type": "code",
   "execution_count": 42,
   "metadata": {},
   "outputs": [
    {
     "data": {
      "text/plain": [
       "'637815080349888749'"
      ]
     },
     "execution_count": 42,
     "metadata": {},
     "output_type": "execute_result"
    }
   ],
   "source": [
    "app_info_path = r'C:\\Users\\nelms\\Documents\\Code\\keys\\permit_metric_app.json'"
   ]
  },
  {
   "cell_type": "code",
   "execution_count": 12,
   "metadata": {},
   "outputs": [
    {
     "ename": "AttributeError",
     "evalue": "'str' object has no attribute 'read'",
     "output_type": "error",
     "traceback": [
      "\u001b[1;31m---------------------------------------------------------------------------\u001b[0m",
      "\u001b[1;31mAttributeError\u001b[0m                            Traceback (most recent call last)",
      "\u001b[1;32mc:\\Users\\nelms\\OneDrive - walnut-creek.org\\Projects\\Server_Updates\\Scripts\\API_Test_Notebook.ipynb Cell 3'\u001b[0m in \u001b[0;36m<module>\u001b[1;34m\u001b[0m\n\u001b[1;32m----> <a href='vscode-notebook-cell:/c%3A/Users/nelms/OneDrive%20-%20walnut-creek.org/Projects/Server_Updates/Scripts/API_Test_Notebook.ipynb#ch0000002?line=0'>1</a>\u001b[0m get_app_info(app_info_path)\n",
      "File \u001b[1;32mc:\\Users\\nelms\\OneDrive - walnut-creek.org\\Projects\\Server_Updates\\Scripts\\Accela\\GetLoginInfo.py:4\u001b[0m, in \u001b[0;36mget_app_info\u001b[1;34m(app_info_path)\u001b[0m\n\u001b[0;32m      <a href='file:///c%3A/Users/nelms/OneDrive%20-%20walnut-creek.org/Projects/Server_Updates/Scripts/Accela/GetLoginInfo.py?line=2'>3</a>\u001b[0m \u001b[39mdef\u001b[39;00m \u001b[39mget_app_info\u001b[39m(app_info_path):\n\u001b[1;32m----> <a href='file:///c%3A/Users/nelms/OneDrive%20-%20walnut-creek.org/Projects/Server_Updates/Scripts/Accela/GetLoginInfo.py?line=3'>4</a>\u001b[0m     app_info \u001b[39m=\u001b[39m json\u001b[39m.\u001b[39;49mload(app_info_path)\n\u001b[0;32m      <a href='file:///c%3A/Users/nelms/OneDrive%20-%20walnut-creek.org/Projects/Server_Updates/Scripts/Accela/GetLoginInfo.py?line=4'>5</a>\u001b[0m     \u001b[39mreturn\u001b[39;00m app_info\n",
      "File \u001b[1;32mC:\\ProgramData\\Miniconda3\\envs\\permit_metrics\\lib\\json\\__init__.py:293\u001b[0m, in \u001b[0;36mload\u001b[1;34m(fp, cls, object_hook, parse_float, parse_int, parse_constant, object_pairs_hook, **kw)\u001b[0m\n\u001b[0;32m    <a href='file:///c%3A/ProgramData/Miniconda3/envs/permit_metrics/lib/json/__init__.py?line=273'>274</a>\u001b[0m \u001b[39mdef\u001b[39;00m \u001b[39mload\u001b[39m(fp, \u001b[39m*\u001b[39m, \u001b[39mcls\u001b[39m\u001b[39m=\u001b[39m\u001b[39mNone\u001b[39;00m, object_hook\u001b[39m=\u001b[39m\u001b[39mNone\u001b[39;00m, parse_float\u001b[39m=\u001b[39m\u001b[39mNone\u001b[39;00m,\n\u001b[0;32m    <a href='file:///c%3A/ProgramData/Miniconda3/envs/permit_metrics/lib/json/__init__.py?line=274'>275</a>\u001b[0m         parse_int\u001b[39m=\u001b[39m\u001b[39mNone\u001b[39;00m, parse_constant\u001b[39m=\u001b[39m\u001b[39mNone\u001b[39;00m, object_pairs_hook\u001b[39m=\u001b[39m\u001b[39mNone\u001b[39;00m, \u001b[39m*\u001b[39m\u001b[39m*\u001b[39mkw):\n\u001b[0;32m    <a href='file:///c%3A/ProgramData/Miniconda3/envs/permit_metrics/lib/json/__init__.py?line=275'>276</a>\u001b[0m     \u001b[39m\"\"\"Deserialize ``fp`` (a ``.read()``-supporting file-like object containing\u001b[39;00m\n\u001b[0;32m    <a href='file:///c%3A/ProgramData/Miniconda3/envs/permit_metrics/lib/json/__init__.py?line=276'>277</a>\u001b[0m \u001b[39m    a JSON document) to a Python object.\u001b[39;00m\n\u001b[0;32m    <a href='file:///c%3A/ProgramData/Miniconda3/envs/permit_metrics/lib/json/__init__.py?line=277'>278</a>\u001b[0m \n\u001b[1;32m   (...)\u001b[0m\n\u001b[0;32m    <a href='file:///c%3A/ProgramData/Miniconda3/envs/permit_metrics/lib/json/__init__.py?line=290'>291</a>\u001b[0m \u001b[39m    kwarg; otherwise ``JSONDecoder`` is used.\u001b[39;00m\n\u001b[0;32m    <a href='file:///c%3A/ProgramData/Miniconda3/envs/permit_metrics/lib/json/__init__.py?line=291'>292</a>\u001b[0m \u001b[39m    \"\"\"\u001b[39;00m\n\u001b[1;32m--> <a href='file:///c%3A/ProgramData/Miniconda3/envs/permit_metrics/lib/json/__init__.py?line=292'>293</a>\u001b[0m     \u001b[39mreturn\u001b[39;00m loads(fp\u001b[39m.\u001b[39;49mread(),\n\u001b[0;32m    <a href='file:///c%3A/ProgramData/Miniconda3/envs/permit_metrics/lib/json/__init__.py?line=293'>294</a>\u001b[0m         \u001b[39mcls\u001b[39m\u001b[39m=\u001b[39m\u001b[39mcls\u001b[39m, object_hook\u001b[39m=\u001b[39mobject_hook,\n\u001b[0;32m    <a href='file:///c%3A/ProgramData/Miniconda3/envs/permit_metrics/lib/json/__init__.py?line=294'>295</a>\u001b[0m         parse_float\u001b[39m=\u001b[39mparse_float, parse_int\u001b[39m=\u001b[39mparse_int,\n\u001b[0;32m    <a href='file:///c%3A/ProgramData/Miniconda3/envs/permit_metrics/lib/json/__init__.py?line=295'>296</a>\u001b[0m         parse_constant\u001b[39m=\u001b[39mparse_constant, object_pairs_hook\u001b[39m=\u001b[39mobject_pairs_hook, \u001b[39m*\u001b[39m\u001b[39m*\u001b[39mkw)\n",
      "\u001b[1;31mAttributeError\u001b[0m: 'str' object has no attribute 'read'"
     ]
    }
   ],
   "source": []
  }
 ],
 "metadata": {
  "interpreter": {
   "hash": "e6ff257b97df595aa9d563a902d1b75fbe422a761a4d2a2c55184334088f2f38"
  },
  "kernelspec": {
   "display_name": "Python 3.9.9 ('permit_metrics')",
   "language": "python",
   "name": "python3"
  },
  "language_info": {
   "codemirror_mode": {
    "name": "ipython",
    "version": 3
   },
   "file_extension": ".py",
   "mimetype": "text/x-python",
   "name": "python",
   "nbconvert_exporter": "python",
   "pygments_lexer": "ipython3",
   "version": "3.9.9"
  },
  "orig_nbformat": 4
 },
 "nbformat": 4,
 "nbformat_minor": 2
}
