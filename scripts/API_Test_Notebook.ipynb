{
 "cells": [
  {
   "cell_type": "markdown",
   "metadata": {},
   "source": [
    "# Permit Metrics"
   ]
  },
  {
   "cell_type": "markdown",
   "metadata": {},
   "source": [
    "## Set API Token"
   ]
  },
  {
   "cell_type": "code",
   "execution_count": 4,
   "metadata": {},
   "outputs": [],
   "source": [
    "import os\n",
    "os.chdir(r'C:\\Users\\nelms\\Documents\\Penn\\CPLN-680\\Permit_Metrics')\n",
    "\n",
    "import json"
   ]
  },
  {
   "cell_type": "code",
   "execution_count": 2,
   "metadata": {},
   "outputs": [],
   "source": [
    "%load_ext autoreload\n",
    "%autoreload 2\n",
    "\n",
    "\n"
   ]
  },
  {
   "cell_type": "code",
   "execution_count": 48,
   "metadata": {},
   "outputs": [
    {
     "name": "stdout",
     "output_type": "stream",
     "text": [
      "The autoreload extension is already loaded. To reload it, use:\n",
      "  %reload_ext autoreload\n",
      "FFPzqwWQ5cnWN3TlbM0XRQy6kwJegKxC0cD7ErxHyFNKbJP8D2JWJmV6bgqzGnyIF_laz27oBsg-4NtdCgMNWr7hPIrGRrpethiFuupX2moBZVxzacS_VJOjCkbXvuZoW6A1MdVck5BUe5N4IKaqAm5IUGU8KNMCLBo7trMZEBUO2rvQahJajyLBuK9E1O1bzQ_TSutfVoeSKK2yzlzVWDBM2VhdGBU15vIMvglXWpbHj6gudGpaOB22QXV2Fj2qXKDC-2F7Q-8Mqj0bVI1gqSj9Ro3iU4dPCbR4tL9JPSSZoryhXVFRMYbs3iUOqNR2AnkKB9wgfDVNaCOjiYZuFGCGQZYyxIiXygm-Zx5vtqgo6W6Zi0DtG7V2758b6CWr_RtSm9MsfjkCXlKW77BMTouSqiWD_ZPGFa3HsdznfF7rJ3ydpYov7foEalAmDng00\n"
     ]
    }
   ],
   "source": [
    "%load_ext autoreload\n",
    "%autoreload 2\n",
    "\n",
    "city = 'berk'\n",
    "\n",
    "from accela.GetAppInfo import GetAppUserInfo\n",
    "from accela.GetAgency import get_agencies_accela_info\n",
    "from accela.GetToken import SetToken, GetToken\n",
    "from accela.AccelaRequest import *\n",
    "\n",
    "app_info = GetAppUserInfo()\n",
    "agency_info, agency, environment = get_agencies_accela_info(city, get='both')\n",
    "SetToken(agency_info=agency_info)\n",
    "AccessToken = GetToken()\n",
    "print(AccessToken)"
   ]
  },
  {
   "cell_type": "markdown",
   "metadata": {},
   "source": [
    "## Basic Pulls"
   ]
  },
  {
   "cell_type": "code",
   "execution_count": 29,
   "metadata": {},
   "outputs": [],
   "source": []
  },
  {
   "cell_type": "code",
   "execution_count": 30,
   "metadata": {},
   "outputs": [],
   "source": [
    "\n",
    "parameters = {\n",
    "    'grant_type': 'password',\n",
    "    'scope': 'records parcels inspections'\n",
    "}\n",
    "parameters.update(app_info)\n",
    "parameters.update(agency_info)\n",
    "\n",
    "contentType = 'application/x-www-form-urlencoded'\n",
    "headers = { 'Content-Type' : contentType }"
   ]
  },
  {
   "cell_type": "code",
   "execution_count": 36,
   "metadata": {},
   "outputs": [
    {
     "ename": "NameError",
     "evalue": "name 'get_workflow_url' is not defined",
     "output_type": "error",
     "traceback": [
      "\u001b[1;31m---------------------------------------------------------------------------\u001b[0m",
      "\u001b[1;31mNameError\u001b[0m                                 Traceback (most recent call last)",
      "\u001b[1;32mc:\\Users\\nelms\\Documents\\Penn\\CPLN-680\\Permit_Metrics\\scripts\\API_Test_Notebook.ipynb Cell 9'\u001b[0m in \u001b[0;36m<module>\u001b[1;34m\u001b[0m\n\u001b[0;32m      <a href='vscode-notebook-cell:/c%3A/Users/nelms/Documents/Penn/CPLN-680/Permit_Metrics/scripts/API_Test_Notebook.ipynb#ch0000008?line=0'>1</a>\u001b[0m RECORD \u001b[39m=\u001b[39m \u001b[39m'\u001b[39m\u001b[39m19CAP-00000-00HJA\u001b[39m\u001b[39m'\u001b[39m\n\u001b[0;32m      <a href='vscode-notebook-cell:/c%3A/Users/nelms/Documents/Penn/CPLN-680/Permit_Metrics/scripts/API_Test_Notebook.ipynb#ch0000008?line=1'>2</a>\u001b[0m RECORD \u001b[39m=\u001b[39m \u001b[39m'\u001b[39m\u001b[39m15CAP-00000-00615\u001b[39m\u001b[39m'\u001b[39m\n\u001b[1;32m----> <a href='vscode-notebook-cell:/c%3A/Users/nelms/Documents/Penn/CPLN-680/Permit_Metrics/scripts/API_Test_Notebook.ipynb#ch0000008?line=3'>4</a>\u001b[0m WORKFLOW_URL \u001b[39m=\u001b[39m get_workflow_url(RECORD)\n\u001b[0;32m      <a href='vscode-notebook-cell:/c%3A/Users/nelms/Documents/Penn/CPLN-680/Permit_Metrics/scripts/API_Test_Notebook.ipynb#ch0000008?line=5'>6</a>\u001b[0m contentType \u001b[39m=\u001b[39m \u001b[39m'\u001b[39m\u001b[39mapplication/x-www-form-urlencoded\u001b[39m\u001b[39m'\u001b[39m\n\u001b[0;32m      <a href='vscode-notebook-cell:/c%3A/Users/nelms/Documents/Penn/CPLN-680/Permit_Metrics/scripts/API_Test_Notebook.ipynb#ch0000008?line=6'>7</a>\u001b[0m headers \u001b[39m=\u001b[39m { \n\u001b[0;32m      <a href='vscode-notebook-cell:/c%3A/Users/nelms/Documents/Penn/CPLN-680/Permit_Metrics/scripts/API_Test_Notebook.ipynb#ch0000008?line=7'>8</a>\u001b[0m     \u001b[39m'\u001b[39m\u001b[39mAuthorization\u001b[39m\u001b[39m'\u001b[39m : AccessToken,\n\u001b[0;32m      <a href='vscode-notebook-cell:/c%3A/Users/nelms/Documents/Penn/CPLN-680/Permit_Metrics/scripts/API_Test_Notebook.ipynb#ch0000008?line=8'>9</a>\u001b[0m     \u001b[39m'\u001b[39m\u001b[39mContent-Type\u001b[39m\u001b[39m'\u001b[39m : contentType\n\u001b[0;32m     <a href='vscode-notebook-cell:/c%3A/Users/nelms/Documents/Penn/CPLN-680/Permit_Metrics/scripts/API_Test_Notebook.ipynb#ch0000008?line=9'>10</a>\u001b[0m     }\n",
      "\u001b[1;31mNameError\u001b[0m: name 'get_workflow_url' is not defined"
     ]
    }
   ],
   "source": [
    "RECORD = '19CAP-00000-00HJA'\n",
    "RECORD = '15CAP-00000-00615'\n",
    "\n",
    "WORKFLOW_URL = get_workflow_url(RECORD)\n",
    "\n",
    "contentType = 'application/x-www-form-urlencoded'\n",
    "headers = { \n",
    "    'Authorization' : AccessToken,\n",
    "    'Content-Type' : contentType\n",
    "    }\n",
    "parameters = None\n",
    "# parameters.update(app_info)\n",
    "# parameters.update(agency_info)\n",
    "\n",
    "records = get_request(WORKFLOW_URL, parameters, headers)\n"
   ]
  },
  {
   "cell_type": "code",
   "execution_count": 33,
   "metadata": {},
   "outputs": [
    {
     "name": "stdout",
     "output_type": "stream",
     "text": [
      "200\n"
     ]
    },
    {
     "data": {
      "text/plain": [
       "dict_keys(['result', 'status'])"
      ]
     },
     "execution_count": 33,
     "metadata": {},
     "output_type": "execute_result"
    }
   ],
   "source": [
    "def accela_request()\n",
    "\n"
   ]
  },
  {
   "cell_type": "code",
   "execution_count": 134,
   "metadata": {},
   "outputs": [
    {
     "data": {
      "text/plain": [
       "{'assignedDate': '2020-03-30 00:00:00',\n",
       " 'description': 'Project',\n",
       " 'isCompleted': 'N',\n",
       " 'isActive': 'Y',\n",
       " 'dueDateString': '2020-03-30T00:00:00',\n",
       " 'dueDate': '2020-03-30 00:00:00',\n",
       " 'skipIndicator': '000',\n",
       " 'processCode': 'PLN_PRJ',\n",
       " 'statusDate': '2020-10-08 00:00:00',\n",
       " 'commentDisplay': 'N',\n",
       " 'serviceProviderCode': 'CCSF',\n",
       " 'lastModifiedDateString': '2020-10-08T13:19:26',\n",
       " 'lastModifiedDate': '2020-10-08 13:19:26',\n",
       " 'comment': 'correspondence',\n",
       " 'id': '1-13231',\n",
       " 'recordId': {'id': 'CCSF-19CAP-00000-00HJA',\n",
       "  'customId': '2019-022617PRJ',\n",
       "  'capClass': 'COMPLETE',\n",
       "  'trackingId': 278997255,\n",
       "  'serviceProviderCode': 'CCSF',\n",
       "  'value': '19CAP-00000-00HJA'},\n",
       " 'status': {'value': 'Under Review', 'text': 'Under Review'}}"
      ]
     },
     "execution_count": 134,
     "metadata": {},
     "output_type": "execute_result"
    }
   ],
   "source": [
    "records['result'][1]"
   ]
  },
  {
   "cell_type": "code",
   "execution_count": 133,
   "metadata": {},
   "outputs": [
    {
     "data": {
      "text/html": [
       "<div>\n",
       "<style scoped>\n",
       "    .dataframe tbody tr th:only-of-type {\n",
       "        vertical-align: middle;\n",
       "    }\n",
       "\n",
       "    .dataframe tbody tr th {\n",
       "        vertical-align: top;\n",
       "    }\n",
       "\n",
       "    .dataframe thead th {\n",
       "        text-align: right;\n",
       "    }\n",
       "</style>\n",
       "<table border=\"1\" class=\"dataframe\">\n",
       "  <thead>\n",
       "    <tr style=\"text-align: right;\">\n",
       "      <th></th>\n",
       "      <th>assignedDate</th>\n",
       "      <th>description</th>\n",
       "      <th>isCompleted</th>\n",
       "      <th>isActive</th>\n",
       "      <th>dueDateString</th>\n",
       "      <th>dueDate</th>\n",
       "      <th>skipIndicator</th>\n",
       "      <th>processCode</th>\n",
       "      <th>statusDate</th>\n",
       "      <th>commentDisplay</th>\n",
       "      <th>serviceProviderCode</th>\n",
       "      <th>lastModifiedDateString</th>\n",
       "      <th>lastModifiedDate</th>\n",
       "      <th>id</th>\n",
       "      <th>recordId</th>\n",
       "      <th>status</th>\n",
       "      <th>comment</th>\n",
       "    </tr>\n",
       "  </thead>\n",
       "  <tbody>\n",
       "    <tr>\n",
       "      <th>0</th>\n",
       "      <td>2019-12-06 00:00:00</td>\n",
       "      <td>Application Intake</td>\n",
       "      <td>Y</td>\n",
       "      <td>N</td>\n",
       "      <td>2019-12-06T00:00:00</td>\n",
       "      <td>2019-12-06 00:00:00</td>\n",
       "      <td>000</td>\n",
       "      <td>PLN_PRJ</td>\n",
       "      <td>2020-03-02 00:00:00</td>\n",
       "      <td>N</td>\n",
       "      <td>CCSF</td>\n",
       "      <td>2020-03-30T08:42:03</td>\n",
       "      <td>2020-03-30 08:42:03</td>\n",
       "      <td>12-13231</td>\n",
       "      <td>{'id': 'CCSF-19CAP-00000-00HJA', 'customId': '...</td>\n",
       "      <td>{'value': 'Application Accepted', 'text': 'App...</td>\n",
       "      <td>NaN</td>\n",
       "    </tr>\n",
       "    <tr>\n",
       "      <th>1</th>\n",
       "      <td>2020-03-30 00:00:00</td>\n",
       "      <td>Project</td>\n",
       "      <td>N</td>\n",
       "      <td>Y</td>\n",
       "      <td>2020-03-30T00:00:00</td>\n",
       "      <td>2020-03-30 00:00:00</td>\n",
       "      <td>000</td>\n",
       "      <td>PLN_PRJ</td>\n",
       "      <td>2020-10-08 00:00:00</td>\n",
       "      <td>N</td>\n",
       "      <td>CCSF</td>\n",
       "      <td>2020-10-08T13:19:26</td>\n",
       "      <td>2020-10-08 13:19:26</td>\n",
       "      <td>1-13231</td>\n",
       "      <td>{'id': 'CCSF-19CAP-00000-00HJA', 'customId': '...</td>\n",
       "      <td>{'value': 'Under Review', 'text': 'Under Review'}</td>\n",
       "      <td>correspondence</td>\n",
       "    </tr>\n",
       "  </tbody>\n",
       "</table>\n",
       "</div>"
      ],
      "text/plain": [
       "          assignedDate         description isCompleted isActive  \\\n",
       "0  2019-12-06 00:00:00  Application Intake           Y        N   \n",
       "1  2020-03-30 00:00:00             Project           N        Y   \n",
       "\n",
       "         dueDateString              dueDate skipIndicator processCode  \\\n",
       "0  2019-12-06T00:00:00  2019-12-06 00:00:00           000     PLN_PRJ   \n",
       "1  2020-03-30T00:00:00  2020-03-30 00:00:00           000     PLN_PRJ   \n",
       "\n",
       "            statusDate commentDisplay serviceProviderCode  \\\n",
       "0  2020-03-02 00:00:00              N                CCSF   \n",
       "1  2020-10-08 00:00:00              N                CCSF   \n",
       "\n",
       "  lastModifiedDateString     lastModifiedDate        id  \\\n",
       "0    2020-03-30T08:42:03  2020-03-30 08:42:03  12-13231   \n",
       "1    2020-10-08T13:19:26  2020-10-08 13:19:26   1-13231   \n",
       "\n",
       "                                            recordId  \\\n",
       "0  {'id': 'CCSF-19CAP-00000-00HJA', 'customId': '...   \n",
       "1  {'id': 'CCSF-19CAP-00000-00HJA', 'customId': '...   \n",
       "\n",
       "                                              status         comment  \n",
       "0  {'value': 'Application Accepted', 'text': 'App...             NaN  \n",
       "1  {'value': 'Under Review', 'text': 'Under Review'}  correspondence  "
      ]
     },
     "execution_count": 133,
     "metadata": {},
     "output_type": "execute_result"
    }
   ],
   "source": [
    "pd.DataFrame(records['result'])"
   ]
  },
  {
   "cell_type": "code",
   "execution_count": 126,
   "metadata": {},
   "outputs": [
    {
     "data": {
      "text/html": [
       "<div>\n",
       "<style scoped>\n",
       "    .dataframe tbody tr th:only-of-type {\n",
       "        vertical-align: middle;\n",
       "    }\n",
       "\n",
       "    .dataframe tbody tr th {\n",
       "        vertical-align: top;\n",
       "    }\n",
       "\n",
       "    .dataframe thead th {\n",
       "        text-align: right;\n",
       "    }\n",
       "</style>\n",
       "<table border=\"1\" class=\"dataframe\">\n",
       "  <thead>\n",
       "    <tr style=\"text-align: right;\">\n",
       "      <th></th>\n",
       "      <th>Dwelling Unit Type</th>\n",
       "      <th>ADU Area</th>\n",
       "      <th>Proposed</th>\n",
       "      <th>Net</th>\n",
       "      <th>Existing</th>\n",
       "    </tr>\n",
       "  </thead>\n",
       "  <tbody>\n",
       "    <tr>\n",
       "      <th>0</th>\n",
       "      <td>Studios</td>\n",
       "      <td>None</td>\n",
       "      <td>29</td>\n",
       "      <td>2</td>\n",
       "      <td>27</td>\n",
       "    </tr>\n",
       "    <tr>\n",
       "      <th>1</th>\n",
       "      <td>One Bedroom</td>\n",
       "      <td>None</td>\n",
       "      <td>1</td>\n",
       "      <td>1</td>\n",
       "      <td>0</td>\n",
       "    </tr>\n",
       "    <tr>\n",
       "      <th>2</th>\n",
       "      <td>Two Bedroom</td>\n",
       "      <td>None</td>\n",
       "      <td>0</td>\n",
       "      <td>0</td>\n",
       "      <td>0</td>\n",
       "    </tr>\n",
       "    <tr>\n",
       "      <th>3</th>\n",
       "      <td>Three Bedroom (and +)</td>\n",
       "      <td>None</td>\n",
       "      <td>0</td>\n",
       "      <td>0</td>\n",
       "      <td>0</td>\n",
       "    </tr>\n",
       "    <tr>\n",
       "      <th>4</th>\n",
       "      <td>Group Housing - Rooms</td>\n",
       "      <td>None</td>\n",
       "      <td>0</td>\n",
       "      <td>0</td>\n",
       "      <td>0</td>\n",
       "    </tr>\n",
       "    <tr>\n",
       "      <th>5</th>\n",
       "      <td>Group Housing - Beds</td>\n",
       "      <td>None</td>\n",
       "      <td>0</td>\n",
       "      <td>0</td>\n",
       "      <td>0</td>\n",
       "    </tr>\n",
       "    <tr>\n",
       "      <th>6</th>\n",
       "      <td>SRO</td>\n",
       "      <td>None</td>\n",
       "      <td>0</td>\n",
       "      <td>0</td>\n",
       "      <td>0</td>\n",
       "    </tr>\n",
       "    <tr>\n",
       "      <th>7</th>\n",
       "      <td>Micro</td>\n",
       "      <td>None</td>\n",
       "      <td>0</td>\n",
       "      <td>0</td>\n",
       "      <td>0</td>\n",
       "    </tr>\n",
       "  </tbody>\n",
       "</table>\n",
       "</div>"
      ],
      "text/plain": [
       "      Dwelling Unit Type ADU Area Proposed Net Existing\n",
       "0                Studios     None       29   2       27\n",
       "1            One Bedroom     None        1   1        0\n",
       "2            Two Bedroom     None        0   0        0\n",
       "3  Three Bedroom (and +)     None        0   0        0\n",
       "4  Group Housing - Rooms     None        0   0        0\n",
       "5   Group Housing - Beds     None        0   0        0\n",
       "6                    SRO     None        0   0        0\n",
       "7                  Micro     None        0   0        0"
      ]
     },
     "execution_count": 126,
     "metadata": {},
     "output_type": "execute_result"
    }
   ],
   "source": [
    "import pandas as pd\n",
    "pd.DataFrame([field['fields'] for field in records['result'][2]['rows']])\n",
    "\n"
   ]
  },
  {
   "cell_type": "code",
   "execution_count": 25,
   "metadata": {},
   "outputs": [],
   "source": [
    "import requests\n",
    "import json\n",
    "\n",
    "url = 'https://apis.accela.com/v4/agencies'\n",
    "\n",
    "contentType = 'application/json'\n",
    "headers = { \n",
    "    #'Authorization' : token,\n",
    "    'x-accela-appid': app_id,\n",
    "    'Content-Type' : contentType \n",
    "    }\n",
    "\n",
    "def get_AccelaJson(accelaurl):\n",
    "    response = requests.request('GET', accelaurl, headers=headers)\n",
    "    d = response.json()\n",
    "    \n",
    "    return d\n",
    "\n",
    "agencies = get_AccelaJson(url)"
   ]
  },
  {
   "cell_type": "code",
   "execution_count": 35,
   "metadata": {},
   "outputs": [],
   "source": [
    "import pandas as pd\n",
    "a_df = pd.DataFrame(agencies['result'])\n",
    "a_df = a_df[(a_df['isForDemo']==False)&(~a_df['state'].isna())&(a_df['state']!='')]\n",
    "\n",
    "a_df.to_csv(r'./static_data/agencies.csv')"
   ]
  },
  {
   "cell_type": "code",
   "execution_count": 12,
   "metadata": {},
   "outputs": [
    {
     "ename": "AttributeError",
     "evalue": "'str' object has no attribute 'read'",
     "output_type": "error",
     "traceback": [
      "\u001b[1;31m---------------------------------------------------------------------------\u001b[0m",
      "\u001b[1;31mAttributeError\u001b[0m                            Traceback (most recent call last)",
      "\u001b[1;32mc:\\Users\\nelms\\OneDrive - walnut-creek.org\\Projects\\Server_Updates\\Scripts\\API_Test_Notebook.ipynb Cell 3'\u001b[0m in \u001b[0;36m<module>\u001b[1;34m\u001b[0m\n\u001b[1;32m----> <a href='vscode-notebook-cell:/c%3A/Users/nelms/OneDrive%20-%20walnut-creek.org/Projects/Server_Updates/Scripts/API_Test_Notebook.ipynb#ch0000002?line=0'>1</a>\u001b[0m get_app_info(app_info_path)\n",
      "File \u001b[1;32mc:\\Users\\nelms\\OneDrive - walnut-creek.org\\Projects\\Server_Updates\\Scripts\\Accela\\GetLoginInfo.py:4\u001b[0m, in \u001b[0;36mget_app_info\u001b[1;34m(app_info_path)\u001b[0m\n\u001b[0;32m      <a href='file:///c%3A/Users/nelms/OneDrive%20-%20walnut-creek.org/Projects/Server_Updates/Scripts/Accela/GetLoginInfo.py?line=2'>3</a>\u001b[0m \u001b[39mdef\u001b[39;00m \u001b[39mget_app_info\u001b[39m(app_info_path):\n\u001b[1;32m----> <a href='file:///c%3A/Users/nelms/OneDrive%20-%20walnut-creek.org/Projects/Server_Updates/Scripts/Accela/GetLoginInfo.py?line=3'>4</a>\u001b[0m     app_info \u001b[39m=\u001b[39m json\u001b[39m.\u001b[39;49mload(app_info_path)\n\u001b[0;32m      <a href='file:///c%3A/Users/nelms/OneDrive%20-%20walnut-creek.org/Projects/Server_Updates/Scripts/Accela/GetLoginInfo.py?line=4'>5</a>\u001b[0m     \u001b[39mreturn\u001b[39;00m app_info\n",
      "File \u001b[1;32mC:\\ProgramData\\Miniconda3\\envs\\permit_metrics\\lib\\json\\__init__.py:293\u001b[0m, in \u001b[0;36mload\u001b[1;34m(fp, cls, object_hook, parse_float, parse_int, parse_constant, object_pairs_hook, **kw)\u001b[0m\n\u001b[0;32m    <a href='file:///c%3A/ProgramData/Miniconda3/envs/permit_metrics/lib/json/__init__.py?line=273'>274</a>\u001b[0m \u001b[39mdef\u001b[39;00m \u001b[39mload\u001b[39m(fp, \u001b[39m*\u001b[39m, \u001b[39mcls\u001b[39m\u001b[39m=\u001b[39m\u001b[39mNone\u001b[39;00m, object_hook\u001b[39m=\u001b[39m\u001b[39mNone\u001b[39;00m, parse_float\u001b[39m=\u001b[39m\u001b[39mNone\u001b[39;00m,\n\u001b[0;32m    <a href='file:///c%3A/ProgramData/Miniconda3/envs/permit_metrics/lib/json/__init__.py?line=274'>275</a>\u001b[0m         parse_int\u001b[39m=\u001b[39m\u001b[39mNone\u001b[39;00m, parse_constant\u001b[39m=\u001b[39m\u001b[39mNone\u001b[39;00m, object_pairs_hook\u001b[39m=\u001b[39m\u001b[39mNone\u001b[39;00m, \u001b[39m*\u001b[39m\u001b[39m*\u001b[39mkw):\n\u001b[0;32m    <a href='file:///c%3A/ProgramData/Miniconda3/envs/permit_metrics/lib/json/__init__.py?line=275'>276</a>\u001b[0m     \u001b[39m\"\"\"Deserialize ``fp`` (a ``.read()``-supporting file-like object containing\u001b[39;00m\n\u001b[0;32m    <a href='file:///c%3A/ProgramData/Miniconda3/envs/permit_metrics/lib/json/__init__.py?line=276'>277</a>\u001b[0m \u001b[39m    a JSON document) to a Python object.\u001b[39;00m\n\u001b[0;32m    <a href='file:///c%3A/ProgramData/Miniconda3/envs/permit_metrics/lib/json/__init__.py?line=277'>278</a>\u001b[0m \n\u001b[1;32m   (...)\u001b[0m\n\u001b[0;32m    <a href='file:///c%3A/ProgramData/Miniconda3/envs/permit_metrics/lib/json/__init__.py?line=290'>291</a>\u001b[0m \u001b[39m    kwarg; otherwise ``JSONDecoder`` is used.\u001b[39;00m\n\u001b[0;32m    <a href='file:///c%3A/ProgramData/Miniconda3/envs/permit_metrics/lib/json/__init__.py?line=291'>292</a>\u001b[0m \u001b[39m    \"\"\"\u001b[39;00m\n\u001b[1;32m--> <a href='file:///c%3A/ProgramData/Miniconda3/envs/permit_metrics/lib/json/__init__.py?line=292'>293</a>\u001b[0m     \u001b[39mreturn\u001b[39;00m loads(fp\u001b[39m.\u001b[39;49mread(),\n\u001b[0;32m    <a href='file:///c%3A/ProgramData/Miniconda3/envs/permit_metrics/lib/json/__init__.py?line=293'>294</a>\u001b[0m         \u001b[39mcls\u001b[39m\u001b[39m=\u001b[39m\u001b[39mcls\u001b[39m, object_hook\u001b[39m=\u001b[39mobject_hook,\n\u001b[0;32m    <a href='file:///c%3A/ProgramData/Miniconda3/envs/permit_metrics/lib/json/__init__.py?line=294'>295</a>\u001b[0m         parse_float\u001b[39m=\u001b[39mparse_float, parse_int\u001b[39m=\u001b[39mparse_int,\n\u001b[0;32m    <a href='file:///c%3A/ProgramData/Miniconda3/envs/permit_metrics/lib/json/__init__.py?line=295'>296</a>\u001b[0m         parse_constant\u001b[39m=\u001b[39mparse_constant, object_pairs_hook\u001b[39m=\u001b[39mobject_pairs_hook, \u001b[39m*\u001b[39m\u001b[39m*\u001b[39mkw)\n",
      "\u001b[1;31mAttributeError\u001b[0m: 'str' object has no attribute 'read'"
     ]
    }
   ],
   "source": []
  }
 ],
 "metadata": {
  "interpreter": {
   "hash": "e6ff257b97df595aa9d563a902d1b75fbe422a761a4d2a2c55184334088f2f38"
  },
  "kernelspec": {
   "display_name": "Python 3.9.9 ('permit_metrics')",
   "language": "python",
   "name": "python3"
  },
  "language_info": {
   "codemirror_mode": {
    "name": "ipython",
    "version": 3
   },
   "file_extension": ".py",
   "mimetype": "text/x-python",
   "name": "python",
   "nbconvert_exporter": "python",
   "pygments_lexer": "ipython3",
   "version": "3.9.9"
  },
  "orig_nbformat": 4
 },
 "nbformat": 4,
 "nbformat_minor": 2
}
