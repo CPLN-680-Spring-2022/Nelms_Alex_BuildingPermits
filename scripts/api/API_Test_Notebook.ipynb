{
 "cells": [
  {
   "cell_type": "markdown",
   "metadata": {},
   "source": [
    "# Permit Metrics"
   ]
  },
  {
   "cell_type": "markdown",
   "metadata": {},
   "source": [
    "## Set API Token"
   ]
  },
  {
   "cell_type": "code",
   "execution_count": 1,
   "metadata": {},
   "outputs": [],
   "source": [
    "import os\n",
    "os.chdir(r\"C:\\Users\\nelms\\Documents\\Penn\\CPLN-680\\Permit_Metrics\")"
   ]
  },
  {
   "cell_type": "markdown",
   "metadata": {},
   "source": []
  },
  {
   "cell_type": "code",
   "execution_count": 2,
   "metadata": {},
   "outputs": [
    {
     "name": "stdout",
     "output_type": "stream",
     "text": [
      "GYeul6eMFFVBlmx_xWHFINuZr8ZAGiaYJeCVytCr5JB8SWKj7DG5q7FnjDACBRDatgeDaRC0xla4ycGGrqTirW3rNIZgiaMMKAYeQJ-Xa56bWA4H6ohdbRPRS1WKeVPurenSDRHsXHU2HrRdYV_h4JYPw4hLaveqlaVF-Sz3El8n8ZfKoNHtRjHXJMnoVjKbXAp0M-t60tTnGkWJLlAhLbJdYTkL-8zjVLLOzGNljWLCY414U22ac6Mli42XK_HTF379aMwgitmfOl8OZXAkl8NWQs2aNfMwP_IlhaCgyH_8ZkotU8JdVin1hBSOCrLxR0NaCqYGa1jD4aZJImjmlaVoMW4sJwpcZ0KLMXfHbuA5uQ-f7qkjjI2OGobF0S2KL1S69uOacDieDNuUgtPUWGF_BGISEBFdlPcF-vnOsWAkp_dKno4dM7xoFI6uExS60\n"
     ]
    }
   ],
   "source": [
    "%load_ext autoreload\n",
    "%autoreload 2\n",
    "\n",
    "city = \"sf\"\n",
    "\n",
    "from accela.GetAppInfo import GetAppUserInfo\n",
    "from accela.GetAgency import get_agencies_accela_info\n",
    "from accela.GetToken import SetToken, GetToken\n",
    "from accela.AccelaRequest import *\n",
    "\n",
    "app_info = GetAppUserInfo()\n",
    "agency_info, agency, environment = get_agencies_accela_info(city, get=\"both\")\n",
    "SetToken(agency_info=agency_info)\n",
    "AccessToken = GetToken()\n",
    "print(AccessToken)"
   ]
  },
  {
   "cell_type": "markdown",
   "metadata": {},
   "source": [
    "## Basic Pulls"
   ]
  },
  {
   "cell_type": "code",
   "execution_count": 3,
   "metadata": {},
   "outputs": [],
   "source": [
    "\n",
    "parameters = {\n",
    "    \"grant_type\": \"password\",\n",
    "    \"scope\": \"records parcels inspections\"\n",
    "}\n",
    "parameters.update(app_info)\n",
    "parameters.update(agency_info)\n",
    "\n",
    "authDict = {\"Authorization\" : AccessToken}\n",
    "\n",
    "def get_headers(headers = {}, content=True, contentType=\"application/x-www-form-urlencoded\", auth=True, agency = False, env = False, env_agency = False):\n",
    "    if content==True:\n",
    "        types = {\n",
    "            'app':\"application/json\",\n",
    "            'form':\"application/x-www-form-urlencoded\"\n",
    "        }\n",
    "        if contentType in types.keys():\n",
    "            contentType = types[contentType]\n",
    "        headers.update({\"Content-Type\" : contentType})\n",
    "    if auth==True:\n",
    "        headers.update(authDict)\n",
    "    if env_agency == True:\n",
    "        env = True\n",
    "        agency = True\n",
    "    if env == True:\n",
    "        headers[\"x-accela-environment\"] = get_parameters()[\"environment\"]\n",
    "    if agency == True:\n",
    "        headers[\"x-accela-agency\"] = get_parameters()[\"agency_name\"]\n",
    "    return headers\n",
    "    \n",
    "def get_parameters(parameters = {}, app=True, agency=True):\n",
    "    if app==True:\n",
    "        parameters.update(app_info)\n",
    "    if agency==True:\n",
    "        parameters.update(agency_info)\n",
    "    return parameters"
   ]
  },
  {
   "cell_type": "code",
   "execution_count": 4,
   "metadata": {},
   "outputs": [
    {
     "name": "stdout",
     "output_type": "stream",
     "text": [
      "200\n"
     ]
    },
    {
     "data": {
      "text/plain": [
       "[{'commentDisplay': 'N',\n",
       "  'dueDate': '2015-06-22 00:00:00',\n",
       "  'dueDateString': '2015-06-22T00:00:00',\n",
       "  'skipIndicator': '000',\n",
       "  'isActive': 'N',\n",
       "  'isCompleted': 'Y',\n",
       "  'lastModifiedDate': '2015-06-22 15:51:09',\n",
       "  'processCode': 'PLN_PPA',\n",
       "  'statusDate': '2015-06-22 00:00:00',\n",
       "  'lastModifiedDateString': '2015-06-22T15:51:09',\n",
       "  'comment': 'created record and docket, processed payment, assigned workflow, drafted email to staff, uploaded digital files.',\n",
       "  'description': 'Application Intake',\n",
       "  'assignedDate': '2015-06-22 00:00:00',\n",
       "  'serviceProviderCode': 'CCSF',\n",
       "  'id': '1-13223',\n",
       "  'recordId': {'id': 'CCSF-15CAP-00000-00615',\n",
       "   'capClass': 'COMPLETE',\n",
       "   'trackingId': 289122112,\n",
       "   'customId': '2015-007816PPA',\n",
       "   'serviceProviderCode': 'CCSF',\n",
       "   'value': '15CAP-00000-00615'},\n",
       "  'status': {'value': 'Application Accepted', 'text': 'Application Accepted'}},\n",
       " {'commentDisplay': 'N',\n",
       "  'dueDate': '2015-06-22 00:00:00',\n",
       "  'dueDateString': '2015-06-22T00:00:00',\n",
       "  'skipIndicator': '000',\n",
       "  'isActive': 'N',\n",
       "  'isCompleted': 'Y',\n",
       "  'lastModifiedDate': '2015-09-17 21:05:48',\n",
       "  'processCode': 'PLN_PPA',\n",
       "  'statusDate': '2015-09-17 00:00:00',\n",
       "  'lastModifiedDateString': '2015-09-17T21:05:48',\n",
       "  'description': 'Environmental Planning',\n",
       "  'assignedDate': '2015-09-09 00:00:00',\n",
       "  'serviceProviderCode': 'CCSF',\n",
       "  'id': '3-13223',\n",
       "  'recordId': {'id': 'CCSF-15CAP-00000-00615',\n",
       "   'capClass': 'COMPLETE',\n",
       "   'trackingId': 289122112,\n",
       "   'customId': '2015-007816PPA',\n",
       "   'serviceProviderCode': 'CCSF',\n",
       "   'value': '15CAP-00000-00615'},\n",
       "  'status': {'value': 'PPA Letter Section Complete',\n",
       "   'text': 'PPA Letter Section Complete'}},\n",
       " {'commentDisplay': 'N',\n",
       "  'dueDate': '2015-06-22 00:00:00',\n",
       "  'dueDateString': '2015-06-22T00:00:00',\n",
       "  'skipIndicator': '000',\n",
       "  'isActive': 'N',\n",
       "  'isCompleted': 'Y',\n",
       "  'lastModifiedDate': '2015-09-17 21:06:10',\n",
       "  'processCode': 'PLN_PPA',\n",
       "  'statusDate': '2015-09-17 00:00:00',\n",
       "  'lastModifiedDateString': '2015-09-17T21:06:10',\n",
       "  'description': 'Citywide Planning',\n",
       "  'assignedDate': '2015-06-29 00:00:00',\n",
       "  'serviceProviderCode': 'CCSF',\n",
       "  'id': '5-13223',\n",
       "  'recordId': {'id': 'CCSF-15CAP-00000-00615',\n",
       "   'capClass': 'COMPLETE',\n",
       "   'trackingId': 289122112,\n",
       "   'customId': '2015-007816PPA',\n",
       "   'serviceProviderCode': 'CCSF',\n",
       "   'value': '15CAP-00000-00615'},\n",
       "  'status': {'value': 'PPA Letter Section Complete',\n",
       "   'text': 'PPA Letter Section Complete'}},\n",
       " {'commentDisplay': 'N',\n",
       "  'dueDate': '2015-06-22 00:00:00',\n",
       "  'dueDateString': '2015-06-22T00:00:00',\n",
       "  'skipIndicator': '000',\n",
       "  'isActive': 'N',\n",
       "  'isCompleted': 'Y',\n",
       "  'lastModifiedDate': '2015-09-17 21:07:00',\n",
       "  'processCode': 'PLN_PPA',\n",
       "  'statusDate': '2015-09-17 00:00:00',\n",
       "  'lastModifiedDateString': '2015-09-17T21:07:00',\n",
       "  'description': 'Current Planning',\n",
       "  'assignedDate': '2015-09-02 00:00:00',\n",
       "  'serviceProviderCode': 'CCSF',\n",
       "  'id': '6-13223',\n",
       "  'recordId': {'id': 'CCSF-15CAP-00000-00615',\n",
       "   'capClass': 'COMPLETE',\n",
       "   'trackingId': 289122112,\n",
       "   'customId': '2015-007816PPA',\n",
       "   'serviceProviderCode': 'CCSF',\n",
       "   'value': '15CAP-00000-00615'},\n",
       "  'status': {'value': 'PPA Letter Section Complete',\n",
       "   'text': 'PPA Letter Section Complete'}},\n",
       " {'commentDisplay': 'N',\n",
       "  'dueDate': '2015-06-22 00:00:00',\n",
       "  'dueDateString': '2015-06-22T00:00:00',\n",
       "  'skipIndicator': '000',\n",
       "  'isActive': 'N',\n",
       "  'isCompleted': 'Y',\n",
       "  'lastModifiedDate': '2015-09-17 21:07:23',\n",
       "  'processCode': 'PLN_PPA',\n",
       "  'statusDate': '2015-09-17 00:00:00',\n",
       "  'lastModifiedDateString': '2015-09-17T21:07:23',\n",
       "  'description': 'Design Review',\n",
       "  'assignedDate': '2015-06-22 00:00:00',\n",
       "  'serviceProviderCode': 'CCSF',\n",
       "  'id': '7-13223',\n",
       "  'recordId': {'id': 'CCSF-15CAP-00000-00615',\n",
       "   'capClass': 'COMPLETE',\n",
       "   'trackingId': 289122112,\n",
       "   'customId': '2015-007816PPA',\n",
       "   'serviceProviderCode': 'CCSF',\n",
       "   'value': '15CAP-00000-00615'},\n",
       "  'status': {'value': 'PPA Letter Section Complete',\n",
       "   'text': 'PPA Letter Section Complete'}},\n",
       " {'commentDisplay': 'N',\n",
       "  'dueDate': '2015-09-17 00:00:00',\n",
       "  'dueDateString': '2015-09-17T00:00:00',\n",
       "  'skipIndicator': '000',\n",
       "  'isActive': 'N',\n",
       "  'isCompleted': 'Y',\n",
       "  'lastModifiedDate': '2015-09-17 21:07:53',\n",
       "  'processCode': 'PLN_PPA',\n",
       "  'statusDate': '2015-09-17 00:00:00',\n",
       "  'lastModifiedDateString': '2015-09-17T21:07:53',\n",
       "  'description': 'Completion Processing',\n",
       "  'assignedDate': '2015-09-17 00:00:00',\n",
       "  'serviceProviderCode': 'CCSF',\n",
       "  'id': '4-13223',\n",
       "  'recordId': {'id': 'CCSF-15CAP-00000-00615',\n",
       "   'capClass': 'COMPLETE',\n",
       "   'trackingId': 289122112,\n",
       "   'customId': '2015-007816PPA',\n",
       "   'serviceProviderCode': 'CCSF',\n",
       "   'value': '15CAP-00000-00615'},\n",
       "  'status': {'value': 'PPA Letter Issued', 'text': 'PPA Letter Issued'}},\n",
       " {'commentDisplay': 'Y',\n",
       "  'dueDate': '2015-10-27 00:00:00',\n",
       "  'dueDateString': '2015-10-27T00:00:00',\n",
       "  'skipIndicator': '000',\n",
       "  'isActive': 'N',\n",
       "  'isCompleted': 'Y',\n",
       "  'lastModifiedDate': '2015-12-02 11:40:13',\n",
       "  'processCode': 'ADHOC WORKFLOW',\n",
       "  'statusDate': '2015-12-02 00:00:00',\n",
       "  'lastModifiedDateString': '2015-12-02T11:40:13',\n",
       "  'comment': 'call to architect re: height issue; survey submittal.',\n",
       "  'description': 'Post-Completion Review',\n",
       "  'assignedDate': '2015-10-05 00:00:00',\n",
       "  'dispositionNote': 'Follow-Up Meeting',\n",
       "  'serviceProviderCode': 'CCSF',\n",
       "  'id': '8-13138',\n",
       "  'recordId': {'id': 'CCSF-15CAP-00000-00615',\n",
       "   'capClass': 'COMPLETE',\n",
       "   'trackingId': 289122112,\n",
       "   'customId': '2015-007816PPA',\n",
       "   'serviceProviderCode': 'CCSF',\n",
       "   'value': '15CAP-00000-00615'},\n",
       "  'status': {'value': 'Closed', 'text': 'Closed'},\n",
       "  'commentPublicVisible': ['All']}]"
      ]
     },
     "execution_count": 4,
     "metadata": {},
     "output_type": "execute_result"
    }
   ],
   "source": [
    "# RECORD = \"19CAP-00000-00HJA\"\n",
    "RECORD = \"15CAP-00000-00615\" # SF CONDO on EMBARCADERO\n",
    "\n",
    "WORKFLOW_URL = get_workflow_url(RECORD)\n",
    "\n",
    "headers = get_headers()\n",
    "parameters = None #get_parameters()\n",
    "\n",
    "records = AccelaRequest(WORKFLOW_URL, parameters, headers)\n",
    "records"
   ]
  },
  {
   "cell_type": "code",
   "execution_count": 5,
   "metadata": {},
   "outputs": [
    {
     "ename": "SyntaxError",
     "evalue": "'break' outside loop (668683560.py, line 1)",
     "output_type": "error",
     "traceback": [
      "\u001b[1;36m  Input \u001b[1;32mIn [5]\u001b[1;36m\u001b[0m\n\u001b[1;33m    break\u001b[0m\n\u001b[1;37m    ^\u001b[0m\n\u001b[1;31mSyntaxError\u001b[0m\u001b[1;31m:\u001b[0m 'break' outside loop\n"
     ]
    }
   ],
   "source": [
    "break"
   ]
  },
  {
   "cell_type": "code",
   "execution_count": null,
   "metadata": {},
   "outputs": [
    {
     "data": {
      "text/plain": [
       "['addresses',\n",
       " 'assets',\n",
       " 'contacts',\n",
       " 'customForms',\n",
       " 'customForms',\n",
       " 'customTables',\n",
       " 'owners',\n",
       " 'parcels',\n",
       " 'professionals']"
      ]
     },
     "execution_count": 165,
     "metadata": {},
     "output_type": "execute_result"
    }
   ],
   "source": [
    "opts = \"customForms,contacts,addresses,parcels,professionals,owners,customForms,customTables,assets\".split(^,')\n",
    "opts.sort()\n",
    "opts"
   ]
  },
  {
   "cell_type": "code",
   "execution_count": 6,
   "metadata": {},
   "outputs": [
    {
     "name": "stdout",
     "output_type": "stream",
     "text": [
      "{\"result\":[{\"customForms\":[{\"Group Housing\":null,\"Non-residential Space\":\"No\",\"id\":\"PLN_PPA-REASON.cFOR.cPPA\",\"Dwelling Units\":\"Yes\",\"Other\":null},{\"Rear\":null,\"Side Yard\":null,\"Front\":null,\"Height\":null,\"id\":\"PLN_PPA-BUILDING.cADDITIONS\"},{\"Other Desc.\":null,\"Facade Alterations\":null,\"Additions\":null,\"Change of Use\":\"CHECKED\",\"Legislative-Zoning Change\":null,\"Lot Line Adjustment-Subdivision\":null,\"Demolition\":\"CHECKED\",\"id\":\"PLN_PPA-PROJECT.cDESCRIPTION\",\"New Construction\":\"CHECKED\",\"ROW Improvements\":null,\"Other\":null},{\"Historic Demolition\":\"No\",\"Wind\":\"No\",\"Noise\":\"Yes\",\"Alteration\":\"No\",\"Excavation Below Grade\":\"0\",\"Shadow\":\"Yes\",\"Demolition\":\"Yes\",\"Excavation-Soil Disturbance\":\"Yes\",\"Excavation Foundation\":null,\"id\":\"PLN_PPA-PROJECT.cINFORMATION\",\"Subdivision-Lot Line Adjustment\":\"No\",\"Expansion\":\"Yes\",\"Hazardous Materials\":\"Yes\",\"Ground Disturbance\":\"Yes\"}],\"customTables\":[{\"id\":\"PLN_PPA-PROJECT.cFEATURES\",\"rows\":[{\"fields\":{\"Project Feature Desc\":null,\"Project Feature\":\"Buildin\n"
     ]
    }
   ],
   "source": [
    "\n",
    "\n",
    "RECORD_SEARCH_URL =  API_URL + \"/v4/search/records\"\n",
    "\n",
    "expand_options = [\n",
    "    #'addresses',\n",
    "    'assets',\n",
    "    #'contacts',\n",
    "    'customForms',\n",
    "    'customTables',\n",
    "    #'owners',\n",
    "    #'parcels',\n",
    "    'professionals'\n",
    " ]\n",
    "expands = \"?expand={}\".format(\n",
    "    ','.join(expand_options)\n",
    ")\n",
    "\n",
    "url = RECORD_SEARCH_URL + expands\n",
    "\n",
    "headers = get_headers(env_agency=True, contentType='app')\n",
    "\n",
    "payload = {}\n",
    "#payload[\"module\"] = \"planning\"\n",
    "\n",
    "RECORD = \"15CAP%\"\n",
    "RECORD = \"15CAP-00000-00615\"\n",
    "\n",
    "payload[\"id\"] = RECORD\n",
    "\n",
    "payload['offset'] = 25\n",
    "\n",
    "payload = json.dumps(payload)\n",
    "\n",
    "import requests\n",
    "response = requests.request(\n",
    "    \"POST\", \n",
    "    url, \n",
    "    headers=headers, \n",
    "    data=payload\n",
    "    )\n",
    "\n",
    "print(response.text[:1000])\n",
    "\n",
    "result = response.json()['result']"
   ]
  },
  {
   "cell_type": "code",
   "execution_count": null,
   "metadata": {},
   "outputs": [
    {
     "data": {
      "text/plain": [
       "'Planning/Applications/Project Review/PPA'"
      ]
     },
     "execution_count": 156,
     "metadata": {},
     "output_type": "execute_result"
    }
   ],
   "source": [
    "\n"
   ]
  },
  {
   "cell_type": "code",
   "execution_count": 7,
   "metadata": {},
   "outputs": [
    {
     "data": {
      "text/plain": [
       "{'Type': 'Preliminary Project Assessment (PPA)',\n",
       " 'Name': '400-444 Divisadero St AND 1048-1064 Oak St',\n",
       " 'Custom Id': '2015-007816PPA',\n",
       " 'Plan Id': '15CAP-00000-00615',\n",
       " 'status': 'Letter Issued',\n",
       " 'Update Date': '2015-06-22 15:35:05'}"
      ]
     },
     "execution_count": 7,
     "metadata": {},
     "output_type": "execute_result"
    }
   ],
   "source": [
    "import pandas as pd\n",
    "\n",
    "def pdDF(*args):\n",
    "    return pd.DataFrame(*args)\n",
    "\n",
    "def record_type(record):\n",
    "    #return {'Type': record['type']['value']}\n",
    "    return {'Type': record['type']['text']}\n",
    "\n",
    "def record_name(record):\n",
    "    return {'Name': record['name']}\n",
    "\n",
    "def custom_id(record):\n",
    "    return {'Custom Id': record['customId']}\n",
    "\n",
    "def plan_id(record):\n",
    "    return {'Plan Id': record['value']}\n",
    "\n",
    "def record_status(record):\n",
    "    return {'status': record['status']['value']}\n",
    "\n",
    "def record_update(record):\n",
    "    return {'Update Date': record['updateDate']}\n",
    "\n",
    "def RECORD_INFO(record):\n",
    "    info_functions = [\n",
    "        record_type, record_name, custom_id, plan_id, record_status, record_update\n",
    "    ]\n",
    "    info_dict = {}\n",
    "    [info_dict.update(func(record)) for func in info_functions]\n",
    "    return info_dict\n",
    "\n",
    "RECORD_INFO(result[0])"
   ]
  },
  {
   "cell_type": "code",
   "execution_count": null,
   "metadata": {},
   "outputs": [
    {
     "name": "stdout",
     "output_type": "stream",
     "text": [
      "customForms [{'Group Housing': None, 'Non-residential Space': 'No', 'id': 'PLN_PPA-REASON.cFOR.cPPA', 'Dwelling Units': 'Yes', 'Other': None}, {'Rear': None, 'Side Yard': None, 'Front': None, 'Height': None, 'id': 'PLN_PPA-BUILDING.cADDITIONS'}, {'Other Desc.': None, 'Facade Alterations': None, 'Additions': None, 'Change of Use': 'CHECKED', 'Legislative-Zoning Change': None, 'Lot Line Adjustment-Subdivision': None, 'Demolition': 'CHECKED', 'id': 'PLN_PPA-PROJECT.cDESCRIPTION', 'New Construction': 'CHECKED', 'ROW Improvements': None, 'Other': None}, {'Historic Demolition': 'No', 'Wind': 'No', 'Noise': 'Yes', 'Alteration': 'No', 'Excavation Below Grade': '0', 'Shadow': 'Yes', 'Demolition': 'Yes', 'Excavation-Soil Disturbance': 'Yes', 'Excavation Foundation': None, 'id': 'PLN_PPA-PROJECT.cINFORMATION', 'Subdivision-Lot Line Adjustment': 'No', 'Expansion': 'Yes', 'Hazardous Materials': 'Yes', 'Ground Disturbance': 'Yes'}] \n",
      "\n",
      "customTables [{'id': 'PLN_PPA-PROJECT.cFEATURES', 'rows': [{'fields': {'Project Feature Desc': None, 'Project Feature': 'Building Number', 'Proposed': '2', 'Net': '-2', 'Existing': '4'}, 'id': '1'}, {'fields': {'Project Feature Desc': None, 'Project Feature': 'Stories Number', 'Proposed': '6', 'Net': '4', 'Existing': '2'}, 'id': '2'}, {'fields': {'Project Feature Desc': None, 'Project Feature': 'Dwelling Units-Market Rate', 'Proposed': '160', 'Net': '155', 'Existing': '5'}, 'id': '3'}, {'fields': {'Project Feature Desc': None, 'Project Feature': 'Dwelling Units-Affordable', 'Proposed': '0', 'Net': '0', 'Existing': '0'}, 'id': '4'}, {'fields': {'Project Feature Desc': None, 'Project Feature': 'Parking Spaces', 'Proposed': '78', 'Net': '78', 'Existing': '0'}, 'id': '5'}, {'fields': {'Project Feature Desc': None, 'Project Feature': 'Loading Spaces', 'Proposed': '2', 'Net': '2', 'Existing': '0'}, 'id': '6'}, {'fields': {'Project Feature Desc': None, 'Project Feature': 'Bicycle Spaces', 'Proposed': '115', 'Net': '115', 'Existing': '0'}, 'id': '7'}]}, {'id': 'PLN_PPA-GENERAL.cLAND.cUSE.cPROFILE', 'rows': [{'fields': {'Land Use Category': 'Residential', 'Proposed': '124678', 'Net New': '121765', 'Existing': '2913'}, 'id': '1'}, {'fields': {'Land Use Category': 'Retail/Commercial', 'Proposed': '7734', 'Net New': '4404', 'Existing': '3330'}, 'id': '2'}, {'fields': {'Land Use Category': 'Parking GSF', 'Proposed': '15405', 'Net New': '15405', 'Existing': '0'}, 'id': '4'}]}, {'id': 'PLN_PPA-DEPOSIT', 'rows': [{'fields': {'Deposit Date': '07/07/2015', 'Receipt #': '19994937'}, 'id': '1'}]}] \n",
      "\n",
      "name 400-444 Divisadero St AND 1048-1064 Oak St \n",
      "\n",
      "id CCSF-15CAP-00000-00615 \n",
      "\n",
      "type {'module': 'Planning', 'value': 'Planning/Applications/Project Review/PPA', 'type': 'Applications', 'text': 'Preliminary Project Assessment (PPA)', 'group': 'Planning', 'category': 'PPA', 'alias': 'Preliminary Project Assessment (PPA)', 'subType': 'Project Review', 'id': 'Planning-Applications-Project.cReview-PPA'} \n",
      "\n",
      "description 1) Demolish existing car wash and gas station on Divisadero and two existing buildings on Oak; 2) Relocate one existing building on Oak to new location 50 feet to the east; and 3) Construct new 148,000 GSF residential building 4-6 stories in height, as well as 7,000 to 8,000 GSF of retail.\n",
      "\n",
      "The PPA was submitted on 6/10/15 and the 90 day deadline is 9/8/15. \n",
      "\n",
      "module Planning \n",
      "\n",
      "status {'value': 'Letter Issued', 'text': 'Letter Issued'} \n",
      "\n",
      "createdBy AHUISMAN \n",
      "\n",
      "serviceProviderCode CCSF \n",
      "\n",
      "updateDate 2015-06-22 15:35:05 \n",
      "\n",
      "trackingId 289122112 \n",
      "\n",
      "renewalInfo {'expirationDate': '2015-01-31 00:00:00', 'expirationStatus': 'Pending'} \n",
      "\n",
      "jobValue 0.0 \n",
      "\n",
      "openedDate 2015-06-22 00:00:00 \n",
      "\n",
      "statusType PENDING \n",
      "\n",
      "customId 2015-007816PPA \n",
      "\n",
      "value 15CAP-00000-00615 \n",
      "\n"
     ]
    }
   ],
   "source": [
    "for c in list(result[0]):\n",
    "    print(c, result[0][c], '\\n')"
   ]
  },
  {
   "cell_type": "code",
   "execution_count": null,
   "metadata": {},
   "outputs": [
    {
     "data": {
      "text/plain": [
       "['addresses',\n",
       " 'parcels',\n",
       " 'owners',\n",
       " 'customForms',\n",
       " 'customTables',\n",
       " 'name',\n",
       " 'id',\n",
       " 'type',\n",
       " 'description',\n",
       " 'module',\n",
       " 'status',\n",
       " 'createdBy',\n",
       " 'customId',\n",
       " 'serviceProviderCode',\n",
       " 'statusType',\n",
       " 'updateDate',\n",
       " 'openedDate',\n",
       " 'trackingId',\n",
       " 'renewalInfo',\n",
       " 'jobValue',\n",
       " 'value']"
      ]
     },
     "execution_count": 171,
     "metadata": {},
     "output_type": "execute_result"
    }
   ],
   "source": [
    "list(result[0])"
   ]
  },
  {
   "cell_type": "code",
   "execution_count": null,
   "metadata": {},
   "outputs": [
    {
     "data": {
      "text/html": [
       "<div>\n",
       "<style scoped>\n",
       "    .dataframe tbody tr th:only-of-type {\n",
       "        vertical-align: middle;\n",
       "    }\n",
       "\n",
       "    .dataframe tbody tr th {\n",
       "        vertical-align: top;\n",
       "    }\n",
       "\n",
       "    .dataframe thead th {\n",
       "        text-align: right;\n",
       "    }\n",
       "</style>\n",
       "<table border=\"1\" class=\"dataframe\">\n",
       "  <thead>\n",
       "    <tr style=\"text-align: right;\">\n",
       "      <th></th>\n",
       "      <th>Dwelling Unit Type</th>\n",
       "      <th>ADU Area</th>\n",
       "      <th>Proposed</th>\n",
       "      <th>Net</th>\n",
       "      <th>Existing</th>\n",
       "    </tr>\n",
       "  </thead>\n",
       "  <tbody>\n",
       "    <tr>\n",
       "      <th>0</th>\n",
       "      <td>Studios</td>\n",
       "      <td>None</td>\n",
       "      <td>29</td>\n",
       "      <td>2</td>\n",
       "      <td>27</td>\n",
       "    </tr>\n",
       "    <tr>\n",
       "      <th>1</th>\n",
       "      <td>One Bedroom</td>\n",
       "      <td>None</td>\n",
       "      <td>1</td>\n",
       "      <td>1</td>\n",
       "      <td>0</td>\n",
       "    </tr>\n",
       "    <tr>\n",
       "      <th>2</th>\n",
       "      <td>Two Bedroom</td>\n",
       "      <td>None</td>\n",
       "      <td>0</td>\n",
       "      <td>0</td>\n",
       "      <td>0</td>\n",
       "    </tr>\n",
       "    <tr>\n",
       "      <th>3</th>\n",
       "      <td>Three Bedroom (and +)</td>\n",
       "      <td>None</td>\n",
       "      <td>0</td>\n",
       "      <td>0</td>\n",
       "      <td>0</td>\n",
       "    </tr>\n",
       "    <tr>\n",
       "      <th>4</th>\n",
       "      <td>Group Housing - Rooms</td>\n",
       "      <td>None</td>\n",
       "      <td>0</td>\n",
       "      <td>0</td>\n",
       "      <td>0</td>\n",
       "    </tr>\n",
       "    <tr>\n",
       "      <th>5</th>\n",
       "      <td>Group Housing - Beds</td>\n",
       "      <td>None</td>\n",
       "      <td>0</td>\n",
       "      <td>0</td>\n",
       "      <td>0</td>\n",
       "    </tr>\n",
       "    <tr>\n",
       "      <th>6</th>\n",
       "      <td>SRO</td>\n",
       "      <td>None</td>\n",
       "      <td>0</td>\n",
       "      <td>0</td>\n",
       "      <td>0</td>\n",
       "    </tr>\n",
       "    <tr>\n",
       "      <th>7</th>\n",
       "      <td>Micro</td>\n",
       "      <td>None</td>\n",
       "      <td>0</td>\n",
       "      <td>0</td>\n",
       "      <td>0</td>\n",
       "    </tr>\n",
       "  </tbody>\n",
       "</table>\n",
       "</div>"
      ],
      "text/plain": [
       "      Dwelling Unit Type ADU Area Proposed Net Existing\n",
       "0                Studios     None       29   2       27\n",
       "1            One Bedroom     None        1   1        0\n",
       "2            Two Bedroom     None        0   0        0\n",
       "3  Three Bedroom (and +)     None        0   0        0\n",
       "4  Group Housing - Rooms     None        0   0        0\n",
       "5   Group Housing - Beds     None        0   0        0\n",
       "6                    SRO     None        0   0        0\n",
       "7                  Micro     None        0   0        0"
      ]
     },
     "execution_count": 126,
     "metadata": {},
     "output_type": "execute_result"
    }
   ],
   "source": [
    "import pandas as pd\n",
    "pd.DataFrame([field[\"fields\"] for field in records['result'][2]['rows']])\n",
    "\n"
   ]
  },
  {
   "cell_type": "code",
   "execution_count": null,
   "metadata": {},
   "outputs": [],
   "source": [
    "import requests\n",
    "import json\n",
    "\n",
    "url = 'https://apis.accela.com/v4/agencies'\n",
    "\n",
    "contentType = 'application/json'\n",
    "headers = { \n",
    "    #'Authorization' : token,\n",
    "    'x-accela-appid': app_id,\n",
    "    'Content-Type' : contentType \n",
    "    }\n",
    "\n",
    "def get_AccelaJson(accelaurl):\n",
    "    response = requests.request('GET', accelaurl, headers=headers)\n",
    "    d = response.json()\n",
    "    \n",
    "    return d\n",
    "\n",
    "agencies = get_AccelaJson(url)"
   ]
  },
  {
   "cell_type": "code",
   "execution_count": null,
   "metadata": {},
   "outputs": [],
   "source": [
    "import pandas as pd\n",
    "a_df = pd.DataFrame(agencies['result'])\n",
    "a_df = a_df[(a_df['isForDemo']==False)&(~a_df['state'].isna())&(a_df['state']!='')]\n",
    "\n",
    "a_df.to_csv(r'./static_data/agencies.csv')"
   ]
  },
  {
   "cell_type": "code",
   "execution_count": null,
   "metadata": {},
   "outputs": [
    {
     "data": {
      "text/plain": [
       "{'InitMapViewSettings': None,\n",
       " 'InundationConfig': {'UrlInundation': 'https://geospatial.alberta.ca/phobos/rest/services/environment/inundation_official/MapServer/',\n",
       "  'UrlDrp': 'https://geospatial.alberta.ca/titan/rest/services/fama/drp_property_address_initiative/MapServer',\n",
       "  'UrlInundationDepthRasters': 'https://geospatial.alberta.ca/umbriel/rest/services/fama/inundation_m**FormattedReturnPeriodText**y_dep_**FormattedOWIJText**/ImageServer',\n",
       "  'UrlInundationWSERasters': 'https://geospatial.alberta.ca/umbriel/rest/services/fama/inundation_m**FormattedReturnPeriodText**y_wse_**FormattedOWIJText**/ImageServer',\n",
       "  'UrlHazardWSERasters': 'https://geospatial.alberta.ca/umbriel/rest/services/fama/inundation_design_wse/ImageServer',\n",
       "  'Token': 'lqjuvr0LGEwfikn2DUPzhkuRNsomaTViIvHEkaciMj_DBGZ_8jrSHNrI0P0biUPRWHYRDaG3f60AbuShK1d_yyEOPuIs3kTNXS0dVnS-j0oZTZ1BcSJKhRkv8qGYf15o21ONktqocXczZw4F9QyQ-hOKzpTixDBcaxOei74E70DHKID_5NmYqa7x_d6r1a64'}}"
      ]
     },
     "execution_count": 10,
     "metadata": {},
     "output_type": "execute_result"
    }
   ],
   "source": [
    "import json\n",
    "\n",
    "web = '{\"InitMapViewSettings\":null,\"InundationConfig\":{\"UrlInundation\":\"https://geospatial.alberta.ca/phobos/rest/services/environment/inundation_official/MapServer/\",\"UrlDrp\":\"https://geospatial.alberta.ca/titan/rest/services/fama/drp_property_address_initiative/MapServer\",\"UrlInundationDepthRasters\":\"https://geospatial.alberta.ca/umbriel/rest/services/fama/inundation_m**FormattedReturnPeriodText**y_dep_**FormattedOWIJText**/ImageServer\",\"UrlInundationWSERasters\":\"https://geospatial.alberta.ca/umbriel/rest/services/fama/inundation_m**FormattedReturnPeriodText**y_wse_**FormattedOWIJText**/ImageServer\",\"UrlHazardWSERasters\":\"https://geospatial.alberta.ca/umbriel/rest/services/fama/inundation_design_wse/ImageServer\",\"Token\":\"lqjuvr0LGEwfikn2DUPzhkuRNsomaTViIvHEkaciMj_DBGZ_8jrSHNrI0P0biUPRWHYRDaG3f60AbuShK1d_yyEOPuIs3kTNXS0dVnS-j0oZTZ1BcSJKhRkv8qGYf15o21ONktqocXczZw4F9QyQ-hOKzpTixDBcaxOei74E70DHKID_5NmYqa7x_d6r1a64\"}}'\n",
    "web = json.loads(web)\n",
    "\n",
    "#authenticate\n",
    "## https://developers.arcgis.com/rest/users-groups-and-items/authentication.htm"
   ]
  }
 ],
 "metadata": {
  "interpreter": {
   "hash": "e6ff257b97df595aa9d563a902d1b75fbe422a761a4d2a2c55184334088f2f38"
  },
  "kernelspec": {
   "display_name": "Python 3.9.9 ('permit_metrics')",
   "language": "python",
   "name": "python3"
  },
  "language_info": {
   "codemirror_mode": {
    "name": "ipython",
    "version": 3
   },
   "file_extension": ".py",
   "mimetype": "text/x-python",
   "name": "python",
   "nbconvert_exporter": "python",
   "pygments_lexer": "ipython3",
   "version": "3.9.9"
  },
  "orig_nbformat": 4
 },
 "nbformat": 4,
 "nbformat_minor": 2
}
